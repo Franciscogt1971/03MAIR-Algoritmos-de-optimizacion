{
  "nbformat": 4,
  "nbformat_minor": 0,
  "metadata": {
    "colab": {
      "name": "optimize.ipynb",
      "version": "0.3.2",
      "provenance": [],
      "include_colab_link": true
    },
    "kernelspec": {
      "name": "python3",
      "display_name": "Python 3"
    }
  },
  "cells": [
    {
      "cell_type": "markdown",
      "metadata": {
        "id": "view-in-github",
        "colab_type": "text"
      },
      "source": [
        "<a href=\"https://colab.research.google.com/github/Franciscogt1971/03MAIR-Algoritmos-de-optimizacion/blob/master/optimize.ipynb\" target=\"_parent\"><img src=\"https://colab.research.google.com/assets/colab-badge.svg\" alt=\"Open In Colab\"/></a>"
      ]
    },
    {
      "metadata": {
        "id": "Yjo5OL1amf-R",
        "colab_type": "code",
        "colab": {
          "base_uri": "https://localhost:8080/",
          "height": 104
        },
        "outputId": "2a9ddd0a-1e74-47d2-bb63-ab37879201ca"
      },
      "cell_type": "code",
      "source": [
        "from scipy import optimize\n",
        "def f(x):\n",
        "  return x[0]**2 + (x[2]-2)**2\n",
        "print (optimize.fmin(f, [3,5,6]))\n"
      ],
      "execution_count": 9,
      "outputs": [
        {
          "output_type": "stream",
          "text": [
            "Optimization terminated successfully.\n",
            "         Current function value: 0.000000\n",
            "         Iterations: 73\n",
            "         Function evaluations: 135\n",
            "[5.48632459e-06 5.18475232e+00 1.99999225e+00]\n"
          ],
          "name": "stdout"
        }
      ]
    },
    {
      "metadata": {
        "id": "xZv2JlQM44zY",
        "colab_type": "code",
        "colab": {
          "base_uri": "https://localhost:8080/",
          "height": 329
        },
        "outputId": "b2dfcfff-d401-478e-eabc-b084274430ba"
      },
      "cell_type": "code",
      "source": [
        "from scipy import optimize\n",
        "from numpy import array\n",
        "from random import uniform\n",
        "n = 50\n",
        "center = array([uniform(0, 10) for i in range(n)])\n",
        "def f(x):\n",
        "  return sum((x-center)**2)\n",
        "optimum = optimize.fmin_bfgs(f, [0]*n)\n",
        "print (optimum - center)"
      ],
      "execution_count": 11,
      "outputs": [
        {
          "output_type": "stream",
          "text": [
            "Optimization terminated successfully.\n",
            "         Current function value: 0.000000\n",
            "         Iterations: 4\n",
            "         Function evaluations: 364\n",
            "         Gradient evaluations: 7\n",
            "[-1.97828265e-07 -1.82160008e-06 -6.16644462e-07 -8.07408517e-07\n",
            " -8.39128662e-07 -5.97518565e-08 -1.31949748e-06 -2.64828823e-07\n",
            " -2.72202436e-08 -2.67672723e-07 -2.48921304e-06 -1.89213314e-06\n",
            " -5.80852865e-07 -2.65962459e-07 -1.62663913e-06 -1.21271869e-06\n",
            " -1.78583615e-06 -1.39938662e-06 -7.90624204e-07 -5.51402846e-07\n",
            " -9.49658352e-07 -2.08882502e-06 -2.13910785e-06 -1.96896963e-06\n",
            " -1.98814500e-06 -1.11435231e-06 -1.67325798e-06 -1.68985937e-06\n",
            " -1.18231696e-06 -5.32901947e-08 -1.89344599e-06 -2.51853381e-06\n",
            " -1.20347906e-06 -1.17865273e-06 -9.19071202e-07 -1.31804826e-06\n",
            " -2.64563610e-07 -1.44439085e-07 -1.00187241e-06 -1.86093285e-06\n",
            " -1.17855996e-06 -2.03454055e-06 -8.41513547e-07 -1.98153362e-06\n",
            " -8.08139834e-07 -1.99783737e-06 -1.07715200e-07 -2.12868649e-06\n",
            " -1.66672510e-06 -4.44177064e-07]\n"
          ],
          "name": "stdout"
        }
      ]
    },
    {
      "metadata": {
        "id": "-yUGSmU45gwv",
        "colab_type": "code",
        "colab": {
          "base_uri": "https://localhost:8080/",
          "height": 139
        },
        "outputId": "b3b24dfe-b5ee-4abf-feb0-b119412d28c8"
      },
      "cell_type": "code",
      "source": [
        "def profit(p1, p2):\n",
        "  x1 = demand1(p1, p2)\n",
        "  x2 = demand2(p1, p2)\n",
        "  income = x1*p1 + x2*p2\n",
        "  cost = costf(x1, x2)\n",
        "  return income - cost\n",
        "\n",
        "def demand1(p1, p2):\n",
        "  return 20*(20 - p1)\n",
        "\n",
        "def demand2(p1, p2):\n",
        "  return 40*(40 - p2)\n",
        "\n",
        "def costf(x1, x2):\n",
        "  c1 = 10*(x1**0.5)\n",
        "  c2 = 20*(x2**0.5) + 2*x2\n",
        "  cbase = 1000 + 5*(x1 + x2)\n",
        "  return c1 + c2 + cbase\n",
        "\n",
        "from scipy import optimize\n",
        "def objective(x):\n",
        "  return -profit(*x)\n",
        "\n",
        "price = optimize.fmin(objective, [1, 1])\n",
        "\n",
        "print ('prices:', price)\n",
        "print ('amounts:')\n",
        "print (demand1(*price), demand2(*price))\n",
        "\n"
      ],
      "execution_count": 14,
      "outputs": [
        {
          "output_type": "stream",
          "text": [
            "Optimization terminated successfully.\n",
            "         Current function value: -10381.085398\n",
            "         Iterations: 63\n",
            "         Function evaluations: 122\n",
            "prices: [12.7070282  23.69579991]\n",
            "amounts:\n",
            "145.8594359606445 652.1680034121761\n"
          ],
          "name": "stdout"
        }
      ]
    }
  ]
}