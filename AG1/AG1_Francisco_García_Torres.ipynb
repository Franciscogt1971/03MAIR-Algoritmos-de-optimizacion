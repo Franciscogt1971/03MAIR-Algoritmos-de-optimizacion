{
  "nbformat": 4,
  "nbformat_minor": 0,
  "metadata": {
    "colab": {
      "name": "AG1_Francisco_García_Torres.ipynb",
      "version": "0.3.2",
      "provenance": [],
      "include_colab_link": true
    },
    "kernelspec": {
      "name": "python3",
      "display_name": "Python 3"
    }
  },
  "cells": [
    {
      "cell_type": "markdown",
      "metadata": {
        "id": "view-in-github",
        "colab_type": "text"
      },
      "source": [
        "<a href=\"https://colab.research.google.com/github/Franciscogt1971/03MAIR-Algoritmos-de-optimizacion/blob/master/AG1/AG1_Francisco_Garc%C3%ADa_Torres.ipynb\" target=\"_parent\"><img src=\"https://colab.research.google.com/assets/colab-badge.svg\" alt=\"Open In Colab\"/></a>"
      ]
    },
    {
      "metadata": {
        "id": "eLjBzWgrAxYM",
        "colab_type": "text"
      },
      "cell_type": "markdown",
      "source": [
        "AG-ACTIVIDAD GUIADA 1\n",
        "\n",
        "Francisco García Torres\n",
        "\n",
        "https://github.com/Franciscogt1971/03MAIR-Algoritmos-de-optimizacion/tree/master/AG1\n",
        "\n"
      ]
    },
    {
      "metadata": {
        "id": "HR6S8A-2BUla",
        "colab_type": "code",
        "outputId": "b2179ea0-f43f-453a-bf6c-bad3ca9eb1fb",
        "colab": {
          "base_uri": "https://localhost:8080/",
          "height": 391
        }
      },
      "cell_type": "code",
      "source": [
        "# Quick sort\n",
        "\n",
        "A = [9187, 244, 4054, 9222, 8373, 4993, 5265, 5470, 4519, 7182, 2035, 3506, 4337, 7580, 2554, 2824, 8357, 4447, 7379]\n",
        "\n",
        "@calcular_tiempo\n",
        "def quick_sort(A):\n",
        "  if len(A)==1:\n",
        "    return(A)\n",
        "  if len(A)==2:\n",
        "    return[min(A), max(A)]\n",
        "  \n",
        "  IZQ=[]\n",
        "  DER=[]\n",
        "  \n",
        "  pivote=(A[0]+A[1]+A[2])/3\n",
        "  \n",
        "  for i in A:\n",
        "    if i<= pivote:\n",
        "      IZQ.append(i)\n",
        "    else:\n",
        "      DER.append(i)\n",
        "  return quick_sort(IZQ) + quick_sort(DER)\n",
        "\n",
        "def QS(A):\n",
        "  return quick_sort(A)\n",
        "\n",
        "print(QS(A))\n",
        "  "
      ],
      "execution_count": 3,
      "outputs": [
        {
          "output_type": "stream",
          "text": [
            "Tiempo de ejecución para algoritmo: 2.1457672119140625e-06\n",
            "Tiempo de ejecución para algoritmo: 2.384185791015625e-06\n",
            "Tiempo de ejecución para algoritmo: 1.1920928955078125e-06\n",
            "Tiempo de ejecución para algoritmo: 0.005324125289916992\n",
            "Tiempo de ejecución para algoritmo: 7.152557373046875e-07\n",
            "Tiempo de ejecución para algoritmo: 2.6226043701171875e-06\n",
            "Tiempo de ejecución para algoritmo: 0.00030541419982910156\n",
            "Tiempo de ejecución para algoritmo: 0.005947113037109375\n",
            "Tiempo de ejecución para algoritmo: 0.006861448287963867\n",
            "Tiempo de ejecución para algoritmo: 2.1457672119140625e-06\n",
            "Tiempo de ejecución para algoritmo: 2.384185791015625e-06\n",
            "Tiempo de ejecución para algoritmo: 0.00026488304138183594\n",
            "Tiempo de ejecución para algoritmo: 1.9073486328125e-06\n",
            "Tiempo de ejecución para algoritmo: 1.1920928955078125e-06\n",
            "Tiempo de ejecución para algoritmo: 0.00042366981506347656\n",
            "Tiempo de ejecución para algoritmo: 2.384185791015625e-06\n",
            "Tiempo de ejecución para algoritmo: 0.0011911392211914062\n",
            "Tiempo de ejecución para algoritmo: 0.0016374588012695312\n",
            "Tiempo de ejecución para algoritmo: 2.86102294921875e-06\n",
            "Tiempo de ejecución para algoritmo: 0.0022525787353515625\n",
            "Tiempo de ejecución para algoritmo: 0.00931239128112793\n",
            "[244, 2035, 2554, 2824, 3506, 4054, 4337, 4447, 4519, 4993, 5265, 5470, 7182, 7379, 7580, 8357, 8373, 9187, 9222]\n"
          ],
          "name": "stdout"
        }
      ]
    },
    {
      "metadata": {
        "id": "HHChRKOUFm8y",
        "colab_type": "code",
        "colab": {}
      },
      "cell_type": "code",
      "source": [
        "#Decorador para calcular_tiempo a la función para la cual queremos calcular el tiempo de ejecución(Isabel Vázquez)\n",
        "\n",
        "from time import time\n",
        "#Función para calcular el tiempo de ejecución\n",
        "def calcular_tiempo(f):\n",
        "   \n",
        "    def wrapper(*args, **kwargs):        \n",
        "        inicio = time()       \n",
        "        resultado = f(*args, **kwargs)       \n",
        "        tiempo = time() - inicio\n",
        "        print(\"Tiempo de ejecución para algoritmo: \"+str(tiempo))\n",
        "        return resultado\n",
        "    \n",
        "    return wrapper\n",
        "from time import time"
      ],
      "execution_count": 0,
      "outputs": []
    },
    {
      "metadata": {
        "id": "e09QteigbED2",
        "colab_type": "code",
        "colab": {
          "base_uri": "https://localhost:8080/",
          "height": 68
        },
        "outputId": "924dabc2-eecd-4816-cc60-891e71880b0c"
      },
      "cell_type": "code",
      "source": [
        "\n",
        "SISTEMA=[25,10,5,1]\n",
        "\n",
        "def cambio_monedas(CANTIDAD, SISTEMA):\n",
        "  print('SISTEMA:')\n",
        "  print(SISTEMA)\n",
        "  \n",
        "  SOLUCION= [0 for i in range(len(SISTEMA))]\n",
        "  VALOR_ACUMULADO= 0\n",
        "  \n",
        "  for i in range(len(SISTEMA)):\n",
        "    monedas= int(CANTIDAD-VALOR_ACUMULADO/SISTEMA[i])\n",
        "    SOLUCION[i]=monedas\n",
        "    VALOR_ACUMULADO += monedas*SISTEMA[i]\n",
        "    if VALOR_ACUMULADO == CANTIDAD: return SOLUCION\n",
        "     \n",
        "  return SOLUCION\n",
        "\n",
        "\n",
        "\n",
        "cambio_monedas(1000, SISTEMA)\n"
      ],
      "execution_count": 14,
      "outputs": [
        {
          "output_type": "stream",
          "text": [
            "SISTEMA:\n",
            "[25, 10, 5, 1]\n"
          ],
          "name": "stdout"
        },
        {
          "output_type": "execute_result",
          "data": {
            "text/plain": [
              "[1000, -1500, -1000, -4000]"
            ]
          },
          "metadata": {
            "tags": []
          },
          "execution_count": 14
        }
      ]
    }
  ]
}