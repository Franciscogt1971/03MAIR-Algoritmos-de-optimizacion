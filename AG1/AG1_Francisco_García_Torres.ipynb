{
  "nbformat": 4,
  "nbformat_minor": 0,
  "metadata": {
    "colab": {
      "name": "AG1_Francisco_García_Torres.ipynb",
      "version": "0.3.2",
      "provenance": [],
      "include_colab_link": true
    },
    "kernelspec": {
      "name": "python3",
      "display_name": "Python 3"
    }
  },
  "cells": [
    {
      "cell_type": "markdown",
      "metadata": {
        "id": "view-in-github",
        "colab_type": "text"
      },
      "source": [
        "<a href=\"https://colab.research.google.com/github/Franciscogt1971/03MAIR-Algoritmos-de-optimizacion/blob/master/AG1/AG1_Francisco_Garc%C3%ADa_Torres.ipynb\" target=\"_parent\"><img src=\"https://colab.research.google.com/assets/colab-badge.svg\" alt=\"Open In Colab\"/></a>"
      ]
    },
    {
      "metadata": {
        "id": "BAQBQ7SZATUp",
        "colab_type": "code",
        "colab": {}
      },
      "cell_type": "code",
      "source": [
        ""
      ],
      "execution_count": 0,
      "outputs": []
    },
    {
      "metadata": {
        "id": "eLjBzWgrAxYM",
        "colab_type": "text"
      },
      "cell_type": "markdown",
      "source": [
        "AG-ACTIVIDAD GUIADA 1\n",
        "\n",
        "Francisco García Torres\n",
        "\n",
        "https://github.com/Franciscogt1971/03MAIR-Algoritmos-de-optimizacion/tree/master/AG1\n",
        "\n"
      ]
    },
    {
      "metadata": {
        "id": "HR6S8A-2BUla",
        "colab_type": "code",
        "colab": {
          "base_uri": "https://localhost:8080/",
          "height": 391
        },
        "outputId": "c4ba1df2-1d71-41eb-a36a-a5576658d9c0"
      },
      "cell_type": "code",
      "source": [
        "# Quick sort\n",
        "\n",
        "A = [9187, 244, 4054, 9222, 8373, 4993, 5265, 5470, 4519, 7182, 2035, 3506, 4337, 7580, 2554, 2824, 8357, 4447, 7379]\n",
        "\n",
        "@calcular_tiempo\n",
        "def quick_sort(A):\n",
        "  if len(A)==1:\n",
        "    return(A)\n",
        "  if len(A)==2:\n",
        "    return[min(A), max(A)]\n",
        "  \n",
        "  IZQ=[]\n",
        "  DER=[]\n",
        "  \n",
        "  pivote=(A[0]+A[1]+A[2])/3\n",
        "  \n",
        "  for i in A:\n",
        "    if i<= pivote:\n",
        "      IZQ.append(i)\n",
        "    else:\n",
        "      DER.append(i)\n",
        "  return quick_sort(IZQ) + quick_sort(DER)\n",
        "\n",
        "def QS(A):\n",
        "  return quick_sort(A)\n",
        "\n",
        "print(QS(A))\n",
        "  "
      ],
      "execution_count": 3,
      "outputs": [
        {
          "output_type": "stream",
          "text": [
            "Tiempo de ejecución para algoritmo: 3.337860107421875e-06\n",
            "Tiempo de ejecución para algoritmo: 2.384185791015625e-06\n",
            "Tiempo de ejecución para algoritmo: 7.152557373046875e-07\n",
            "Tiempo de ejecución para algoritmo: 0.0002727508544921875\n",
            "Tiempo de ejecución para algoritmo: 4.76837158203125e-07\n",
            "Tiempo de ejecución para algoritmo: 1.6689300537109375e-06\n",
            "Tiempo de ejecución para algoritmo: 0.0001900196075439453\n",
            "Tiempo de ejecución para algoritmo: 0.0006918907165527344\n",
            "Tiempo de ejecución para algoritmo: 0.0026273727416992188\n",
            "Tiempo de ejecución para algoritmo: 1.430511474609375e-06\n",
            "Tiempo de ejecución para algoritmo: 1.430511474609375e-06\n",
            "Tiempo de ejecución para algoritmo: 0.0002944469451904297\n",
            "Tiempo de ejecución para algoritmo: 1.430511474609375e-06\n",
            "Tiempo de ejecución para algoritmo: 4.76837158203125e-07\n",
            "Tiempo de ejecución para algoritmo: 0.00028705596923828125\n",
            "Tiempo de ejecución para algoritmo: 1.6689300537109375e-06\n",
            "Tiempo de ejecución para algoritmo: 0.0005249977111816406\n",
            "Tiempo de ejecución para algoritmo: 0.0015158653259277344\n",
            "Tiempo de ejecución para algoritmo: 2.384185791015625e-06\n",
            "Tiempo de ejecución para algoritmo: 0.0019295215606689453\n",
            "Tiempo de ejecución para algoritmo: 0.004996776580810547\n",
            "[244, 2035, 2554, 2824, 3506, 4054, 4337, 4447, 4519, 4993, 5265, 5470, 7182, 7379, 7580, 8357, 8373, 9187, 9222]\n"
          ],
          "name": "stdout"
        }
      ]
    },
    {
      "metadata": {
        "id": "HHChRKOUFm8y",
        "colab_type": "code",
        "colab": {}
      },
      "cell_type": "code",
      "source": [
        "#Decorador para calcular_tiempo a la función para la cual queremos calcular el tiempo de ejecución(Isabel Vázquez)\n",
        "\n",
        "from time import time\n",
        "#Función para calcular el tiempo de ejecución\n",
        "def calcular_tiempo(f):\n",
        "   \n",
        "    def wrapper(*args, **kwargs):        \n",
        "        inicio = time()       \n",
        "        resultado = f(*args, **kwargs)       \n",
        "        tiempo = time() - inicio\n",
        "        print(\"Tiempo de ejecución para algoritmo: \"+str(tiempo))\n",
        "        return resultado\n",
        "    \n",
        "    return wrapper\n",
        "from time import time"
      ],
      "execution_count": 0,
      "outputs": []
    }
  ]
}