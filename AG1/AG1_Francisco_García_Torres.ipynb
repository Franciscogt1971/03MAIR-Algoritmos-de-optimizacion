{
  "nbformat": 4,
  "nbformat_minor": 0,
  "metadata": {
    "colab": {
      "name": "AG1_Francisco_García_Torres.ipynb",
      "version": "0.3.2",
      "provenance": [],
      "include_colab_link": true
    },
    "kernelspec": {
      "name": "python3",
      "display_name": "Python 3"
    }
  },
  "cells": [
    {
      "cell_type": "markdown",
      "metadata": {
        "id": "view-in-github",
        "colab_type": "text"
      },
      "source": [
        "<a href=\"https://colab.research.google.com/github/Franciscogt1971/03MAIR-Algoritmos-de-optimizacion/blob/master/AG1/AG1_Francisco_Garc%C3%ADa_Torres.ipynb\" target=\"_parent\"><img src=\"https://colab.research.google.com/assets/colab-badge.svg\" alt=\"Open In Colab\"/></a>"
      ]
    },
    {
      "metadata": {
        "id": "eLjBzWgrAxYM",
        "colab_type": "text"
      },
      "cell_type": "markdown",
      "source": [
        "AG-ACTIVIDAD GUIADA 1\n",
        "\n",
        "Francisco García Torres\n",
        "\n",
        "https://github.com/Franciscogt1971/03MAIR-Algoritmos-de-optimizacion/tree/master/AG1\n",
        "\n"
      ]
    },
    {
      "metadata": {
        "id": "HR6S8A-2BUla",
        "colab_type": "code",
        "outputId": "c4233b44-fcd4-4d70-9d71-9fbced553f65",
        "colab": {
          "base_uri": "https://localhost:8080/",
          "height": 391
        }
      },
      "cell_type": "code",
      "source": [
        "# Quick sort\n",
        "\n",
        "A = [9187, 244, 4054, 9222, 8373, 4993, 5265, 5470, 4519, 7182, 2035, 3506, 4337, 7580, 2554, 2824, 8357, 4447, 7379]\n",
        "\n",
        "@calcular_tiempo\n",
        "def quick_sort(A):\n",
        "  if len(A)==1:\n",
        "    return(A)\n",
        "  if len(A)==2:\n",
        "    return[min(A), max(A)]\n",
        "  \n",
        "  IZQ=[]\n",
        "  DER=[]\n",
        "  \n",
        "  pivote=(A[0]+A[1]+A[2])/3\n",
        "  \n",
        "  for i in A:\n",
        "    if i<= pivote:\n",
        "      IZQ.append(i)\n",
        "    else:\n",
        "      DER.append(i)\n",
        "  return quick_sort(IZQ) + quick_sort(DER)\n",
        "\n",
        "def QS(A):\n",
        "  return quick_sort(A)\n",
        "\n",
        "print(QS(A))\n",
        "  "
      ],
      "execution_count": 2,
      "outputs": [
        {
          "output_type": "stream",
          "text": [
            "Tiempo de ejecución para algoritmo: 2.6226043701171875e-06\n",
            "Tiempo de ejecución para algoritmo: 2.6226043701171875e-06\n",
            "Tiempo de ejecución para algoritmo: 1.1920928955078125e-06\n",
            "Tiempo de ejecución para algoritmo: 0.001211404800415039\n",
            "Tiempo de ejecución para algoritmo: 7.152557373046875e-07\n",
            "Tiempo de ejecución para algoritmo: 2.1457672119140625e-06\n",
            "Tiempo de ejecución para algoritmo: 0.00026154518127441406\n",
            "Tiempo de ejecución para algoritmo: 0.00177001953125\n",
            "Tiempo de ejecución para algoritmo: 0.0022192001342773438\n",
            "Tiempo de ejecución para algoritmo: 1.9073486328125e-06\n",
            "Tiempo de ejecución para algoritmo: 2.1457672119140625e-06\n",
            "Tiempo de ejecución para algoritmo: 0.00029087066650390625\n",
            "Tiempo de ejecución para algoritmo: 1.9073486328125e-06\n",
            "Tiempo de ejecución para algoritmo: 7.152557373046875e-07\n",
            "Tiempo de ejecución para algoritmo: 0.0003376007080078125\n",
            "Tiempo de ejecución para algoritmo: 2.384185791015625e-06\n",
            "Tiempo de ejecución para algoritmo: 0.0005931854248046875\n",
            "Tiempo de ejecución para algoritmo: 0.0011539459228515625\n",
            "Tiempo de ejecución para algoritmo: 2.384185791015625e-06\n",
            "Tiempo de ejecución para algoritmo: 0.0016491413116455078\n",
            "Tiempo de ejecución para algoritmo: 0.0041730403900146484\n",
            "[244, 2035, 2554, 2824, 3506, 4054, 4337, 4447, 4519, 4993, 5265, 5470, 7182, 7379, 7580, 8357, 8373, 9187, 9222]\n"
          ],
          "name": "stdout"
        }
      ]
    },
    {
      "metadata": {
        "id": "HHChRKOUFm8y",
        "colab_type": "code",
        "colab": {}
      },
      "cell_type": "code",
      "source": [
        "#Decorador para calcular_tiempo a la función para la cual queremos calcular el tiempo de ejecución(Isabel Vázquez)\n",
        "\n",
        "from time import time\n",
        "#Función para calcular el tiempo de ejecución\n",
        "def calcular_tiempo(f):\n",
        "   \n",
        "    def wrapper(*args, **kwargs):        \n",
        "        inicio = time()       \n",
        "        resultado = f(*args, **kwargs)       \n",
        "        tiempo = time() - inicio\n",
        "        print(\"Tiempo de ejecución para algoritmo: \"+str(tiempo))\n",
        "        return resultado\n",
        "    \n",
        "    return wrapper\n",
        "from time import time"
      ],
      "execution_count": 0,
      "outputs": []
    },
    {
      "metadata": {
        "id": "e09QteigbED2",
        "colab_type": "code",
        "outputId": "0155afb4-15d0-447f-ed0c-a973a41573ac",
        "colab": {
          "base_uri": "https://localhost:8080/",
          "height": 51
        }
      },
      "cell_type": "code",
      "source": [
        "SISTEMA=[25,10,5,1]\n",
        "@calcular_tiempo\n",
        "def cambio_monedas(CANTIDAD, SISTEMA):\n",
        "\n",
        "  \n",
        "  SOLUCION= [0 for i in range(len(SISTEMA))]\n",
        "  VALOR_ACUMULADO= 0\n",
        "  \n",
        "  for i in range(len(SISTEMA)):\n",
        "    monedas= int((CANTIDAD-VALOR_ACUMULADO)/SISTEMA[i])\n",
        "    SOLUCION[i]=monedas\n",
        "    VALOR_ACUMULADO += monedas*SISTEMA[i]\n",
        "    if VALOR_ACUMULADO == CANTIDAD: \n",
        "      return SOLUCION\n",
        "     \n",
        "\n",
        "\n",
        "\n",
        "\n",
        "cambio_monedas(1010, SISTEMA)\n"
      ],
      "execution_count": 8,
      "outputs": [
        {
          "output_type": "stream",
          "text": [
            "Tiempo de ejecución para algoritmo: 1.0013580322265625e-05\n"
          ],
          "name": "stdout"
        },
        {
          "output_type": "execute_result",
          "data": {
            "text/plain": [
              "[40, 1, 0, 0]"
            ]
          },
          "metadata": {
            "tags": []
          },
          "execution_count": 8
        }
      ]
    },
    {
      "metadata": {
        "id": "IMBZvg_1dZv9",
        "colab_type": "code",
        "colab": {}
      },
      "cell_type": "code",
      "source": [
        "N=4\n",
        "solucion=[0 for i in  range(N)]\n",
        "etapa=0\n",
        "\n",
        "def reinas(N,solucion, etapa):\n",
        "  "
      ],
      "execution_count": 0,
      "outputs": []
    }
  ]
}